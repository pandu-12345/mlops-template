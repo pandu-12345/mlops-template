{
 "cells": [
  {
   "cell_type": "code",
   "execution_count": 17,
   "id": "80236ff8",
   "metadata": {},
   "outputs": [],
   "source": [
    "import os \n",
    "from pathlib import Path\n",
    "import requests\n",
    "from dataclasses import dataclass\n",
    "import zipfile"
   ]
  },
  {
   "cell_type": "code",
   "execution_count": 2,
   "id": "b92a636a",
   "metadata": {},
   "outputs": [],
   "source": [
    "@dataclass(frozen=True)\n",
    "class DataIngestionEntity:\n",
    "    source_url: str\n",
    "    root_dir:Path\n",
    "    Unzip_dir:Path\n",
    "    zip_dir:Path"
   ]
  },
  {
   "cell_type": "code",
   "execution_count": 16,
   "id": "0c152cc0",
   "metadata": {},
   "outputs": [],
   "source": [
    "from project_name import read_yaml\n",
    "from project_name.contants import CONFIG_FILE_PATH,  PARAMS_FILE_PATH\n",
    "\n",
    "\n",
    "class ConfigManager:\n",
    "    def __init__(self,config = CONFIG_FILE_PATH,params = PARAMS_FILE_PATH):\n",
    "        self.config =  read_yaml(config)\n",
    "        self.params = read_yaml(params)\n",
    "        os.makedirs(self.config.artifact_root,exist_ok=True)\n",
    "\n",
    "    def getdataingestionentity(self)->DataIngestionEntity:\n",
    "        config = self.config.data_ingestion\n",
    "        os.makedirs(config.root_dir,exist_ok=True)\n",
    "        dataingestionentity = DataIngestionEntity(\n",
    "            source_url= config.source_url,\n",
    "            root_dir= config.root_dir,\n",
    "            Unzip_dir= config.unzip_data_file,\n",
    "            zip_dir= config.zip_data_file\n",
    "        )\n",
    "        return dataingestionentity\n",
    "    "
   ]
  },
  {
   "cell_type": "code",
   "execution_count": 20,
   "id": "dc23e8fc",
   "metadata": {},
   "outputs": [],
   "source": [
    "class DataIngestion:\n",
    "    def __init__(self,dataingestionentity:DataIngestionEntity):\n",
    "        self.dataingestionentity = dataingestionentity\n",
    "    def download_data(self):\n",
    "        filename = Path(self.dataingestionentity.zip_dir)\n",
    "        if not filename.exists():\n",
    "            try:\n",
    "                response = requests.get(self.dataingestionentity.source_url)\n",
    "                with open(filename, 'wb') as f:\n",
    "                    f.write(response.content)\n",
    "            except Exception as e:\n",
    "                print(\"cant get the data from link\")\n",
    "                raise e\n",
    "\n",
    "    def extract_data(self):\n",
    "        unzip_dir = self.dataingestionentity.Unzip_dir\n",
    "        os.makedirs(unzip_dir,exist_ok=True)\n",
    "        zip_file_path = Path(self.dataingestionentity.zip_dir)\n",
    "        if Path(zip_file_path).exists():\n",
    "            # Extract the ZIP file\n",
    "            with zipfile.ZipFile(zip_file_path, 'r') as zip_ref:\n",
    "                zip_ref.extractall(unzip_dir)\n",
    "                print(f\"ZIP file extracted to: {unzip_dir}\")\n",
    "        else:\n",
    "            print(f\"ZIP file not found at: {zip_file_path}\")"
   ]
  },
  {
   "cell_type": "code",
   "execution_count": 23,
   "id": "4796f50d",
   "metadata": {},
   "outputs": [
    {
     "data": {
      "text/plain": [
       "'c:\\\\Users\\\\jhasu\\\\Desktop\\\\Mlops_template\\\\experiments'"
      ]
     },
     "execution_count": 23,
     "metadata": {},
     "output_type": "execute_result"
    }
   ],
   "source": [
    "os.getcwd()"
   ]
  },
  {
   "cell_type": "code",
   "execution_count": 24,
   "id": "ccf7ae74",
   "metadata": {},
   "outputs": [],
   "source": [
    "\n",
    "os.chdir('../')"
   ]
  },
  {
   "cell_type": "code",
   "execution_count": 25,
   "id": "9c9e44c6",
   "metadata": {},
   "outputs": [
    {
     "data": {
      "text/plain": [
       "'c:\\\\Users\\\\jhasu\\\\Desktop\\\\Mlops_template'"
      ]
     },
     "execution_count": 25,
     "metadata": {},
     "output_type": "execute_result"
    }
   ],
   "source": [
    "os.getcwd()"
   ]
  },
  {
   "cell_type": "code",
   "execution_count": 27,
   "id": "757f40ab",
   "metadata": {},
   "outputs": [
    {
     "name": "stdout",
     "output_type": "stream",
     "text": [
      "ZIP file extracted to: artifact/dataset/\n"
     ]
    }
   ],
   "source": [
    "configm= ConfigManager()\n",
    "data = configm.getdataingestionentity()\n",
    "dataIngestion = DataIngestion(data)\n",
    "dataIngestion.download_data()\n",
    "dataIngestion.extract_data()"
   ]
  }
 ],
 "metadata": {
  "kernelspec": {
   "display_name": "mlops_env",
   "language": "python",
   "name": "python3"
  },
  "language_info": {
   "codemirror_mode": {
    "name": "ipython",
    "version": 3
   },
   "file_extension": ".py",
   "mimetype": "text/x-python",
   "name": "python",
   "nbconvert_exporter": "python",
   "pygments_lexer": "ipython3",
   "version": "3.13.2"
  }
 },
 "nbformat": 4,
 "nbformat_minor": 5
}
