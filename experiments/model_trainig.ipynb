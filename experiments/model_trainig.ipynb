{
 "cells": [
  {
   "cell_type": "code",
   "execution_count": 1,
   "id": "45c4c153",
   "metadata": {},
   "outputs": [],
   "source": [
    "import os\n",
    "from pathlib import Path\n",
    "from dataclasses import dataclass"
   ]
  },
  {
   "cell_type": "code",
   "execution_count": 2,
   "id": "6b5af18f",
   "metadata": {},
   "outputs": [
    {
     "data": {
      "text/plain": [
       "'c:\\\\Users\\\\jhasu\\\\Desktop\\\\Mlops_template\\\\experiments'"
      ]
     },
     "execution_count": 2,
     "metadata": {},
     "output_type": "execute_result"
    }
   ],
   "source": [
    "os.getcwd()"
   ]
  },
  {
   "cell_type": "code",
   "execution_count": 3,
   "id": "ca57208d",
   "metadata": {},
   "outputs": [],
   "source": [
    "os.chdir('../')"
   ]
  },
  {
   "cell_type": "code",
   "execution_count": 4,
   "id": "8c384acc",
   "metadata": {},
   "outputs": [
    {
     "data": {
      "text/plain": [
       "'c:\\\\Users\\\\jhasu\\\\Desktop\\\\Mlops_template'"
      ]
     },
     "execution_count": 4,
     "metadata": {},
     "output_type": "execute_result"
    }
   ],
   "source": [
    "os.getcwd()"
   ]
  },
  {
   "cell_type": "code",
   "execution_count": 5,
   "id": "bc2984c3",
   "metadata": {},
   "outputs": [],
   "source": [
    "@dataclass(frozen=True)\n",
    "class trainingEntity:\n",
    "    model_dir: Path\n",
    "    epochs: int\n",
    "    training_data: Path\n",
    "    batch_size: int\n",
    "    learning_rate: int\n",
    "    image_size: tuple\n",
    "    num_classes: int"
   ]
  },
  {
   "cell_type": "code",
   "execution_count": 6,
   "id": "60d34654",
   "metadata": {},
   "outputs": [],
   "source": [
    "from project_name.Utills.utills import read_yaml\n",
    "from project_name.contants import CONFIG_FILE_PATH, PARAMS_FILE_PATH\n",
    "\n",
    "\n",
    "class ConfigManager:\n",
    "    def __init__(self,config = CONFIG_FILE_PATH,params = PARAMS_FILE_PATH):\n",
    "        self.config =  read_yaml(config)\n",
    "        self.params = read_yaml(params)\n",
    "        os.makedirs(self.config.artifact_root,exist_ok=True)\n",
    "    \n",
    "    def get_training_entity(self)->trainingEntity:\n",
    "\n",
    "        config =self.config.model_training\n",
    "        params = self.params\n",
    "\n",
    "        entity = trainingEntity(\n",
    "            model_dir= Path(config.model_dir),\n",
    "            training_data= Path(config.data_dir),\n",
    "            epochs= params.epochs,\n",
    "            batch_size= params.batch_size,\n",
    "            learning_rate= params.learning_rate,\n",
    "            image_size= params.image_size,\n",
    "            num_classes = params.num_classes\n",
    "        )\n",
    "        return entity"
   ]
  },
  {
   "cell_type": "code",
   "execution_count": null,
   "id": "8a540fef",
   "metadata": {},
   "outputs": [],
   "source": [
    "import torch\n",
    "from torch import nn, optim\n",
    "from torchvision import transforms,datasets,models\n",
    "from torch.utils.data import DataLoader\n",
    "import mlflow\n",
    "import mlflow.pytorch\n",
    "\n",
    "class ModelTraining:\n",
    "    def __init__(self,trainingEntity:trainingEntity):\n",
    "        self.entity = trainingEntity\n",
    "\n",
    "    def train(self):\n",
    "        \n",
    "        transform = transforms.Compose([\n",
    "            transforms.Resize(self.entity.image_size),\n",
    "            transforms.ToTensor()\n",
    "        ])\n",
    "\n",
    "        dataset = datasets.ImageFolder(root= self.entity.training_data,transform= transform)\n",
    "        dataloader = DataLoader(dataset, batch_size=self.entity.batch_size, shuffle= True)\n",
    "\n",
    "        model= models.resnet18(weights=None)\n",
    "        model.fc= nn.Linear(model.fc.in_features,self.entity.num_classes) \n",
    "\n",
    "        criterion= nn.CrossEntropyLoss()\n",
    "        optimizer= optim.Adam(model.parameters(), lr=self.entity.learning_rate)\n",
    "\n",
    "        device = torch.device(\"cuda\" if torch.cuda.is_available() else \"cpu\")\n",
    "        model.to(device)\n",
    "\n",
    "        model.train()\n",
    "\n",
    "        mlflow.set_experiment(\"MLOPs Template\")\n",
    "        for epoch in range(self.entity.epochs):\n",
    "            \n",
    "            mlflow.log_param(\"Batch_size\",self.entity.batch_size)\n",
    "            mlflow.log_param(\"Learning rate\", self.entity.learning_rate)\n",
    "            mlflow.log_param(\"Epochs\", self.entity.epochs)\n",
    "            mlflow.log_param(\"Image size\", self.entity.image_size)\n",
    "\n",
    "            total_loss= 0.0\n",
    "            correct= 0\n",
    "            total= 0\n",
    "\n",
    "            for images,labels in dataloader:\n",
    "                images, labels = images.to(device), labels.to(device)\n",
    "                optimizer.zero_grad()\n",
    "                outputs = model(images)\n",
    "                #print(outputs,labels)\n",
    "                loss= criterion(outputs,labels)\n",
    "                loss.backward()\n",
    "                optimizer.step()\n",
    "                total_loss+=loss.item()\n",
    "                _,predicted = torch.max(outputs, 1)\n",
    "                correct += (predicted == labels).sum().item()\n",
    "                total += labels.size(0)\n",
    "\n",
    "            acc = correct / total\n",
    "            print(f\"Epoch {epoch+1}: Loss={total_loss:.4f}, Accuracy={acc:.4f}\")\n",
    "\n",
    "            mlflow.log_metric(\"loss\", total_loss, step=epoch)\n",
    "            mlflow.log_metric(\"accuracy\", acc, step=epoch)\n",
    "\n",
    "            print(f\"Epoch {epoch+1}/{self.entity.epochs}, Loss: {total_loss:.4f}\")\n",
    "        input_example = torch.rand(1, 3, 224, 224).to(device).cpu().numpy()\n",
    "        mlflow.pytorch.log_model(model, artifact_path=\"model\",input_example= input_example,registered_model_name=\"MLOPs Template\")\n",
    "        \n",
    "        class_to_idx = dataset.class_to_idx\n",
    "        mlflow.log_dict(class_to_idx, \"class_to_idx.json\")\n",
    "\n",
    "        torch.save(model.state_dict(),self.entity.model_dir)\n",
    "        print(f\"Model saved to {self.entity.model_dir}\")"
   ]
  },
  {
   "cell_type": "code",
   "execution_count": 29,
   "id": "e63ddecf",
   "metadata": {},
   "outputs": [
    {
     "name": "stderr",
     "output_type": "stream",
     "text": [
      "c:\\Users\\jhasu\\anaconda3\\envs\\mlops_env\\Lib\\site-packages\\torchvision\\models\\_utils.py:208: UserWarning: The parameter 'pretrained' is deprecated since 0.13 and may be removed in the future, please use 'weights' instead.\n",
      "  warnings.warn(\n",
      "c:\\Users\\jhasu\\anaconda3\\envs\\mlops_env\\Lib\\site-packages\\torchvision\\models\\_utils.py:223: UserWarning: Arguments other than a weight enum or `None` for 'weights' are deprecated since 0.13 and may be removed in the future. The current behavior is equivalent to passing `weights=None`.\n",
      "  warnings.warn(msg)\n"
     ]
    },
    {
     "name": "stdout",
     "output_type": "stream",
     "text": [
      "Epoch 1: Loss=5.3281, Accuracy=0.8923\n",
      "Epoch 1/5, Loss: 5.3281\n",
      "Epoch 2: Loss=2.8727, Accuracy=0.9333\n",
      "Epoch 2/5, Loss: 2.8727\n",
      "Epoch 3: Loss=1.0246, Accuracy=0.9769\n",
      "Epoch 3/5, Loss: 1.0246\n",
      "Epoch 4: Loss=0.8776, Accuracy=0.9795\n",
      "Epoch 4/5, Loss: 0.8776\n",
      "Epoch 5: Loss=1.4267, Accuracy=0.9667\n",
      "Epoch 5/5, Loss: 1.4267\n"
     ]
    },
    {
     "name": "stderr",
     "output_type": "stream",
     "text": [
      "2025/04/24 02:07:35 WARNING mlflow.models.model: Model logged without a signature and input example. Please set `input_example` parameter when logging the model to auto infer the model signature.\n"
     ]
    },
    {
     "name": "stdout",
     "output_type": "stream",
     "text": [
      "Model saved to artifact\\model\n"
     ]
    }
   ],
   "source": [
    "config= ConfigManager()\n",
    "entity= config.get_training_entity()\n",
    "component = ModelTraining(entity)\n",
    "component.train()"
   ]
  },
  {
   "cell_type": "code",
   "execution_count": null,
   "id": "fce7c2f2",
   "metadata": {},
   "outputs": [],
   "source": []
  }
 ],
 "metadata": {
  "kernelspec": {
   "display_name": "mlops_env",
   "language": "python",
   "name": "python3"
  },
  "language_info": {
   "codemirror_mode": {
    "name": "ipython",
    "version": 3
   },
   "file_extension": ".py",
   "mimetype": "text/x-python",
   "name": "python",
   "nbconvert_exporter": "python",
   "pygments_lexer": "ipython3",
   "version": "3.13.2"
  }
 },
 "nbformat": 4,
 "nbformat_minor": 5
}
